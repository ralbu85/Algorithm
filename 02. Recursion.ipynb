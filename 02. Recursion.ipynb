{
 "cells": [
  {
   "cell_type": "markdown",
   "metadata": {},
   "source": [
    "### 1. 재귀알고리즘으로 1부터 n까지의 합을 구해보시오.\n",
    "```python\n",
    ">>> rec_sum(10)\n",
    ">>> 55\n",
    "```"
   ]
  },
  {
   "cell_type": "code",
   "execution_count": 1,
   "metadata": {},
   "outputs": [],
   "source": [
    "def rec_sum(n):\n",
    "    if n==1: #base case\n",
    "        return 1\n",
    "    else:\n",
    "        return n+rec_sum(n-1)"
   ]
  },
  {
   "cell_type": "code",
   "execution_count": 2,
   "metadata": {},
   "outputs": [
    {
     "data": {
      "text/plain": [
       "55"
      ]
     },
     "execution_count": 2,
     "metadata": {},
     "output_type": "execute_result"
    }
   ],
   "source": [
    "rec_sum(10)"
   ]
  },
  {
   "cell_type": "markdown",
   "metadata": {},
   "source": [
    "### 2. 재귀 알고리즘으로 1부터 n까지의 팩토리얼을 구해보시오.\n",
    "```python\n",
    ">>>factorial(5)\n",
    ">>>120\n",
    "```"
   ]
  },
  {
   "cell_type": "code",
   "execution_count": 3,
   "metadata": {},
   "outputs": [],
   "source": [
    "def factorial(n):\n",
    "    if n==1:\n",
    "        return 1\n",
    "    else:\n",
    "        return n*factorial(n-1)   "
   ]
  },
  {
   "cell_type": "code",
   "execution_count": 6,
   "metadata": {},
   "outputs": [
    {
     "name": "stdout",
     "output_type": "stream",
     "text": [
      "1\n",
      "2\n",
      "6\n",
      "24\n",
      "120\n",
      "720\n",
      "5040\n",
      "40320\n",
      "362880\n",
      "3628800\n",
      "39916800\n",
      "479001600\n",
      "6227020800\n",
      "87178291200\n",
      "1307674368000\n",
      "20922789888000\n",
      "355687428096000\n",
      "6402373705728000\n",
      "121645100408832000\n"
     ]
    }
   ],
   "source": [
    "for i in range(1,20):\n",
    "    print(factorial(i))"
   ]
  },
  {
   "cell_type": "markdown",
   "metadata": {},
   "source": [
    "### 3. 재귀 알고리즘으로 주어진 리스트에 들어있는 값의 갯수를 구하시오.\n",
    "```python \n",
    ">>> length([1,3,5,6,7])\n",
    ">>> 5\n",
    "```\n",
    "* hint: 리스트의 pop 활용할것\n",
    "```python\n",
    ">>> my_list=[1,3,5,6,7]\n",
    ">>> my_list.pop(0)\n",
    ">>> 1\n",
    ">>> my_list\n",
    ">>> [3,5,6,7]\n",
    "```\n",
    "<br>\n",
    "* hint: 리스트에 값이 들어있는지 확인\n",
    "```python\n",
    ">>> my_list=[]\n",
    ">>> if not my_list:\n",
    "        print 'empty'\n",
    "    else:\n",
    "        print 'not emtpy'\n",
    ">>> empty\n",
    "```\n"
   ]
  },
  {
   "cell_type": "code",
   "execution_count": 8,
   "metadata": {},
   "outputs": [
    {
     "name": "stdout",
     "output_type": "stream",
     "text": [
      "not empty\n"
     ]
    }
   ],
   "source": [
    "my_list=[1,2,3]\n",
    "if not my_list:\n",
    "    print('empty')\n",
    "else:\n",
    "    print('not empty')   \n"
   ]
  },
  {
   "cell_type": "code",
   "execution_count": 9,
   "metadata": {},
   "outputs": [
    {
     "data": {
      "text/plain": [
       "5"
      ]
     },
     "execution_count": 9,
     "metadata": {},
     "output_type": "execute_result"
    }
   ],
   "source": [
    "def length(my_list):\n",
    "    ## base case\n",
    "    if not my_list:\n",
    "        return 0\n",
    "    else:\n",
    "        my_list.pop(0) #리스트에서 값 하나 빼기\n",
    "        return 1+length(my_list)\n",
    "    \n",
    "length([1,3,5,6,7])"
   ]
  },
  {
   "cell_type": "markdown",
   "metadata": {},
   "source": [
    "### 4. 재귀 알고리즘으로 두 수의 최대공약수를 구하는 알고리즘을 구하시오. (유클리드 알고리즘 참조)"
   ]
  },
  {
   "cell_type": "code",
   "execution_count": 14,
   "metadata": {},
   "outputs": [
    {
     "data": {
      "text/plain": [
       "1"
      ]
     },
     "execution_count": 14,
     "metadata": {},
     "output_type": "execute_result"
    }
   ],
   "source": [
    "def euclid(a,b):\n",
    "    if b==0:\n",
    "        return a\n",
    "    else:\n",
    "        return euclid(b,a%b)\n",
    "\n",
    "euclid(15,4)        "
   ]
  },
  {
   "cell_type": "markdown",
   "metadata": {},
   "source": [
    "### 5. 재귀 알고리즘으로 피보나치 수열을 구하시오."
   ]
  },
  {
   "cell_type": "code",
   "execution_count": 15,
   "metadata": {},
   "outputs": [
    {
     "name": "stdout",
     "output_type": "stream",
     "text": [
      "1\n",
      "1\n",
      "2\n",
      "3\n",
      "5\n",
      "8\n",
      "13\n",
      "21\n",
      "34\n"
     ]
    }
   ],
   "source": [
    "def fib(n):\n",
    "    if n<=2:\n",
    "        return 1\n",
    "    else:\n",
    "        return fib(n-1)+fib(n-2)\n",
    "\n",
    "for i in range(1,10):\n",
    "    print(fib(i))"
   ]
  },
  {
   "cell_type": "markdown",
   "metadata": {},
   "source": [
    "### 6. 재귀 알고리즘으로 리스트를 뒤집는 함수를 구하시오\n",
    "```python\n",
    ">>> reverse([1,3,5,7,9])\n",
    ">>> [9,7,5,3,1]\n",
    "```\n",
    "* hint: 리스트의 pop 활용할것\n",
    "```python\n",
    ">>> my_list=[1,3,5,6,7]\n",
    ">>> my_list.pop(0)\n",
    ">>> 1\n",
    ">>> my_list\n",
    ">>> [3,5,6,7]\n",
    "```\n",
    "* hint: 리스트 붙이기\n",
    "```python\n",
    ">>> [1]+[3,5,7]\n",
    ">>> [1,3,5,7]\n",
    ">>> [] + [1,3,5,7]\n",
    ">>> [1,3,5,7]\n",
    "```"
   ]
  },
  {
   "cell_type": "code",
   "execution_count": 16,
   "metadata": {},
   "outputs": [
    {
     "data": {
      "text/plain": [
       "[9, 7, 5, 3, 1]"
      ]
     },
     "execution_count": 16,
     "metadata": {},
     "output_type": "execute_result"
    }
   ],
   "source": [
    "def reverse(my_list):\n",
    "    if not my_list:\n",
    "        return []\n",
    "    else:\n",
    "        return [my_list.pop(-1)] + reverse(my_list)\n",
    "    \n",
    "reverse([1,3,5,7,9])"
   ]
  },
  {
   "cell_type": "markdown",
   "metadata": {},
   "source": [
    "### 7. 이진탐색을 재귀적으로 구하는 함수를 작성하시오."
   ]
  },
  {
   "cell_type": "code",
   "execution_count": 3,
   "metadata": {},
   "outputs": [],
   "source": [
    "def binary_search(element, some_list, start_index=0, end_index=None):\n",
    "    \n",
    "    if end_index == None:\n",
    "        end_index = len(some_list) - 1\n",
    "    \n",
    "    middle_index = (start_index + end_index) // 2\n",
    "    \n",
    "    ##만약 중간값이 찾고자 하는 값과 같다면 해당 인덱스를 리턴\n",
    "    if some_list[middle_index]==element: \n",
    "        return middle_index\n",
    "    \n",
    "    #만약 start_index>end_index를 넘어가면? 아무것도 리턴하지 않고 끝내기\n",
    "    elif start_index>end_index: \n",
    "        return \n",
    "    \n",
    "    #만약 중간값이 찾고하는 값보다 적다면?\n",
    "    elif some_list[middle_index]<element:\n",
    "        return binary_search(element, some_list, middle_index+1,end_index)\n",
    "    \n",
    "    #만약 중간값이 찾고자 하는값보다 크다면?\n",
    "    elif some_list[middle_index]>element:\n",
    "        return binary_search(element, some_list, start_index, middle_index-1)"
   ]
  },
  {
   "cell_type": "code",
   "execution_count": 4,
   "metadata": {},
   "outputs": [
    {
     "name": "stdout",
     "output_type": "stream",
     "text": [
      "0\n",
      "None\n",
      "2\n",
      "1\n",
      "4\n"
     ]
    }
   ],
   "source": [
    "print(binary_search(2, [2, 3, 5, 7, 11]))\n",
    "print(binary_search(0, [2, 3, 5, 7, 11]))\n",
    "print(binary_search(5, [2, 3, 5, 7, 11]))\n",
    "print(binary_search(3, [2, 3, 5, 7, 11]))\n",
    "print(binary_search(11, [2, 3, 5, 7, 11]))"
   ]
  },
  {
   "cell_type": "code",
   "execution_count": null,
   "metadata": {},
   "outputs": [],
   "source": []
  }
 ],
 "metadata": {
  "kernelspec": {
   "display_name": "Python 3",
   "language": "python",
   "name": "python3"
  },
  "language_info": {
   "codemirror_mode": {
    "name": "ipython",
    "version": 3
   },
   "file_extension": ".py",
   "mimetype": "text/x-python",
   "name": "python",
   "nbconvert_exporter": "python",
   "pygments_lexer": "ipython3",
   "version": "3.6.7"
  }
 },
 "nbformat": 4,
 "nbformat_minor": 2
}
