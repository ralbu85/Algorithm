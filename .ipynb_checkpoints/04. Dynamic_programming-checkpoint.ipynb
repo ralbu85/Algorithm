{
 "cells": [
  {
   "cell_type": "markdown",
   "metadata": {},
   "source": [
    "## 피보나치 수열 (재귀적)"
   ]
  },
  {
   "cell_type": "code",
   "execution_count": 1,
   "metadata": {},
   "outputs": [],
   "source": [
    "def fib(n):\n",
    "    if n<=2:\n",
    "        return 1\n",
    "    else:\n",
    "        return fib(n-1)+fib(n-2)"
   ]
  },
  {
   "cell_type": "code",
   "execution_count": 8,
   "metadata": {},
   "outputs": [
    {
     "name": "stdout",
     "output_type": "stream",
     "text": [
      "1\n",
      "1\n",
      "2\n",
      "3\n",
      "5\n",
      "8\n",
      "13\n",
      "21\n",
      "34\n",
      "55\n"
     ]
    }
   ],
   "source": [
    "for i in range(1,11):\n",
    "    print(fib(i))"
   ]
  },
  {
   "cell_type": "code",
   "execution_count": 16,
   "metadata": {},
   "outputs": [],
   "source": [
    "def fib(n):\n",
    "    sol={1:1,2:1}\n",
    "    if n>=3:\n",
    "        for i in range(3,n+1):\n",
    "            sol[i]=sol[i-1]+sol[i-2]\n",
    "        return sol[n]\n",
    "    else:\n",
    "        return sol[n]\n",
    "    "
   ]
  },
  {
   "cell_type": "code",
   "execution_count": 21,
   "metadata": {},
   "outputs": [
    {
     "name": "stdout",
     "output_type": "stream",
     "text": [
      "1\n",
      "1\n",
      "2\n",
      "3\n",
      "5\n",
      "8\n",
      "13\n",
      "21\n",
      "34\n",
      "55\n"
     ]
    }
   ],
   "source": [
    "for i in range(1,11):\n",
    "    print(fib(i))"
   ]
  },
  {
   "cell_type": "markdown",
   "metadata": {},
   "source": [
    "## 동전교환문제 (재귀적)"
   ]
  },
  {
   "cell_type": "code",
   "execution_count": 30,
   "metadata": {},
   "outputs": [],
   "source": [
    "def coin_recursive(n, coin):\n",
    "    if n in coin:\n",
    "        return 1\n",
    "    \n",
    "    coin=[i for i in coin if i<n] #자기자신보다 큰 동전은 제거              \n",
    "    return 1+min([coin_recursive(n-i,coin) for i in coin])\n",
    "    "
   ]
  },
  {
   "cell_type": "markdown",
   "metadata": {},
   "source": [
    "## 동전교환문제 (동적 프로그래밍)"
   ]
  },
  {
   "cell_type": "code",
   "execution_count": 49,
   "metadata": {},
   "outputs": [
    {
     "data": {
      "text/plain": [
       "23"
      ]
     },
     "execution_count": 49,
     "metadata": {},
     "output_type": "execute_result"
    }
   ],
   "source": [
    "def coin_dp(n,coin):\n",
    "    sol={0:0}\n",
    "    if n>0:\n",
    "        for i in range(1,n+1):\n",
    "            temp=[]\n",
    "            for c in coin:\n",
    "                if c<=i:\n",
    "                    temp.append(1+sol[i-c])\n",
    "            sol[i]=min(temp)\n",
    "        return sol[n]\n",
    "    else:\n",
    "        return 0\n",
    "        \n",
    "coin_dp(111,[1,2,5])"
   ]
  },
  {
   "cell_type": "markdown",
   "metadata": {},
   "source": [
    "## 동전교환문제 (동적 프로그래밍, 세련된)"
   ]
  },
  {
   "cell_type": "code",
   "execution_count": 47,
   "metadata": {},
   "outputs": [
    {
     "data": {
      "text/plain": [
       "3"
      ]
     },
     "execution_count": 47,
     "metadata": {},
     "output_type": "execute_result"
    }
   ],
   "source": [
    "def coin_dp(n,coin):\n",
    "    sol={0:0}\n",
    "    if n>0:\n",
    "        for i in range(1,n+1):\n",
    "            sol[i]=min([1+sol[i-c] for c in coin if c<=i])\n",
    "        return sol[n]\n",
    "    else:\n",
    "        return 0\n",
    "        \n",
    "coin_dp(11,[1,2,5])"
   ]
  }
 ],
 "metadata": {
  "kernelspec": {
   "display_name": "Python 3",
   "language": "python",
   "name": "python3"
  },
  "language_info": {
   "codemirror_mode": {
    "name": "ipython",
    "version": 3
   },
   "file_extension": ".py",
   "mimetype": "text/x-python",
   "name": "python",
   "nbconvert_exporter": "python",
   "pygments_lexer": "ipython3",
   "version": "3.6.7"
  }
 },
 "nbformat": 4,
 "nbformat_minor": 2
}
