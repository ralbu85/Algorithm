{
 "cells": [
  {
   "cell_type": "markdown",
   "metadata": {},
   "source": [
    "### 1. 재귀알고리즘으로 1부터 n까지의 합을 구해보시오.\n",
    "```python\n",
    ">>> rec_sum(10)\n",
    ">>> 55\n",
    "```"
   ]
  },
  {
   "cell_type": "code",
   "execution_count": null,
   "metadata": {},
   "outputs": [],
   "source": [
    "def rec_sum(n):\n",
    "    pass"
   ]
  },
  {
   "cell_type": "markdown",
   "metadata": {},
   "source": [
    "### 2. 재귀 알고리즘으로 1부터 n까지의 팩토리얼을 구해보시오.\n",
    "```python\n",
    ">>>factorial(5)\n",
    ">>>120\n",
    "```"
   ]
  },
  {
   "cell_type": "code",
   "execution_count": null,
   "metadata": {},
   "outputs": [],
   "source": [
    "def factorial(n):\n",
    "    pass"
   ]
  },
  {
   "cell_type": "markdown",
   "metadata": {},
   "source": [
    "### 3. 재귀 알고리즘으로 주어진 문자열의 길이를 구해보시오.\n",
    "\n",
    "```python \n",
    ">>> length('abc')\n",
    ">>> 3\n",
    "```\n",
    "* hint: 리스트의 pop 활용할것\n",
    "```python\n",
    ">>> my_list='abc'\n",
    ">>> my_list.pop(0)\n",
    ">>> 'a'\n",
    ">>> my_list\n",
    ">>> 'bc\n",
    "```\n"
   ]
  },
  {
   "cell_type": "code",
   "execution_count": null,
   "metadata": {},
   "outputs": [],
   "source": [
    "def length(n):\n",
    "    pass"
   ]
  },
  {
   "cell_type": "markdown",
   "metadata": {},
   "source": [
    "### 4. 재귀 알고리즘으로 두 수의 최대공약수를 구하는 알고리즘을 구하시오. (유클리드 알고리즘 참조)"
   ]
  },
  {
   "cell_type": "code",
   "execution_count": null,
   "metadata": {},
   "outputs": [],
   "source": [
    "def euclid(a,b):\n",
    "    pass"
   ]
  },
  {
   "cell_type": "markdown",
   "metadata": {},
   "source": [
    "### 5. 재귀 알고리즘으로 피보나치 수열을 구하시오."
   ]
  },
  {
   "cell_type": "code",
   "execution_count": null,
   "metadata": {},
   "outputs": [],
   "source": [
    "def fib(n):\n",
    "    pass"
   ]
  },
  {
   "cell_type": "markdown",
   "metadata": {},
   "source": [
    "### 6. 재귀 알고리즘으로 리스트를 뒤집는 함수를 구하시오\n",
    "```python\n",
    ">>> reverse('abcde')\n",
    ">>> 'edcba'\n",
    "```\n",
    "* hint: 리스트의 pop 활용할것\n",
    "```python\n",
    ">>> my_list='abc'\n",
    ">>> my_list.pop(0)\n",
    ">>> 'a'\n",
    ">>> my_list\n",
    ">>> 'bc\n",
    "```"
   ]
  },
  {
   "cell_type": "code",
   "execution_count": null,
   "metadata": {},
   "outputs": [],
   "source": [
    "def reverse(n):\n",
    "    pass"
   ]
  },
  {
   "cell_type": "markdown",
   "metadata": {},
   "source": [
    "### 7. 이진탐색을 재귀적으로 구하는 함수를 작성하시오."
   ]
  },
  {
   "cell_type": "code",
   "execution_count": null,
   "metadata": {},
   "outputs": [],
   "source": [
    "def binary_search(element, some_list, start_index=0, end_index=None):\n",
    "    \n",
    "    if end_index == None:\n",
    "        end_index = len(some_list) - 1\n",
    "    \n",
    "    middle_index = (start_index + end_index) // 2\n",
    "    \n",
    "    pass"
   ]
  }
 ],
 "metadata": {
  "kernelspec": {
   "display_name": "Python 3",
   "language": "python",
   "name": "python3"
  },
  "language_info": {
   "codemirror_mode": {
    "name": "ipython",
    "version": 3
   },
   "file_extension": ".py",
   "mimetype": "text/x-python",
   "name": "python",
   "nbconvert_exporter": "python",
   "pygments_lexer": "ipython3",
   "version": "3.6.7"
  }
 },
 "nbformat": 4,
 "nbformat_minor": 2
}
