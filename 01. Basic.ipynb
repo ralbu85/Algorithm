{
 "cells": [
  {
   "cell_type": "markdown",
   "metadata": {},
   "source": [
    "### 1. 1부터 n까지의 합을 구하는 프로그램을 구하시오\n",
    "\n",
    "입력값: n(정수)<br>\n",
    "출력값: 1부터 n까지 숫자의 합"
   ]
  },
  {
   "cell_type": "code",
   "execution_count": 1,
   "metadata": {},
   "outputs": [],
   "source": [
    "def my_sum(n):\n",
    "    ##  여기에 작성하시오  \n",
    "    return result"
   ]
  },
  {
   "cell_type": "code",
   "execution_count": null,
   "metadata": {},
   "outputs": [],
   "source": [
    "my_sum(10)"
   ]
  },
  {
   "cell_type": "markdown",
   "metadata": {},
   "source": [
    "### 2. 주어진 리스트에서 최대값을 구하는 프로그램을 구하시오\n",
    "입력값: 리스트 ex. [3,2,15,11,9] <br>\n",
    "출력값: 리스트 중 최대값 ex.15 "
   ]
  },
  {
   "cell_type": "code",
   "execution_count": 2,
   "metadata": {},
   "outputs": [],
   "source": [
    "def my_max(my_list):\n",
    "    ## 여기부터 작성하시오\n",
    "    return result"
   ]
  },
  {
   "cell_type": "code",
   "execution_count": null,
   "metadata": {},
   "outputs": [],
   "source": [
    "my_max([3,2,15,11,9])"
   ]
  },
  {
   "cell_type": "markdown",
   "metadata": {},
   "source": [
    "### 3. 주어진 리스트에서 원하는 값이 있다면 그 값의 위치를 반환하는 프로그램을 구하시오. 만약 해당 값이 없으면 -1을 반환하시오\n",
    "입력값: 리스트, 값<br>\n",
    "출력값: 해당 값의 위치 혹은 -1(값이 없다면)"
   ]
  },
  {
   "cell_type": "code",
   "execution_count": 3,
   "metadata": {},
   "outputs": [],
   "source": [
    "def search(my_list, value):\n",
    "    ## 여기부터 작성하시오\n",
    "    return result"
   ]
  },
  {
   "cell_type": "code",
   "execution_count": null,
   "metadata": {},
   "outputs": [],
   "source": [
    "search([3,2,15,11,9],11)"
   ]
  },
  {
   "cell_type": "markdown",
   "metadata": {},
   "source": [
    "### 4. 리스트안의 숫자의 두 위치를 바꾸는 알고리즘을 설계하라\n",
    "입력값: 리스트, i 인덱스, j 인덱스<br>\n",
    "출력값: 리스트<br>\n",
    "\n",
    "swap([1,3,22,9,5],1,3)<br>\n",
    "[1,9,22,3,5]"
   ]
  },
  {
   "cell_type": "code",
   "execution_count": null,
   "metadata": {},
   "outputs": [],
   "source": [
    "def swap(my_list,i,j):\n",
    "    return result"
   ]
  },
  {
   "cell_type": "markdown",
   "metadata": {},
   "source": [
    "### 5. 주어진 문자열이 회문인지 검토하는 프로그램을 설계하시오. 회문이란 좌우대칭인 글자를 말한다. (ex. 토마토, 리효리, qwewq)\n",
    "입력값: 문자열 <br>\n",
    "출력값: 회문이면 True 아니면 False"
   ]
  },
  {
   "cell_type": "code",
   "execution_count": null,
   "metadata": {},
   "outputs": [],
   "source": [
    "def check_anagram(my_string):\n",
    "    return result"
   ]
  }
 ],
 "metadata": {
  "kernelspec": {
   "display_name": "Python 3",
   "language": "python",
   "name": "python3"
  },
  "language_info": {
   "codemirror_mode": {
    "name": "ipython",
    "version": 3
   },
   "file_extension": ".py",
   "mimetype": "text/x-python",
   "name": "python",
   "nbconvert_exporter": "python",
   "pygments_lexer": "ipython3",
   "version": "3.6.7"
  }
 },
 "nbformat": 4,
 "nbformat_minor": 2
}
